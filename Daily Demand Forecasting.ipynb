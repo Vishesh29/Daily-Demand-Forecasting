# importing libraries

import pandas as pd
import seaborn as sns
import matplotlib.pyplot as plt
from sklearn.model_selection import train_test_split
from sklearn.linear_model import LinearRegression
from sklearn.preprocessing import StandardScaler
from sklearn.metrics import mean_squared_error

#Reading the dataset 
df = pd.read_csv("https://archive.ics.uci.edu/ml/machine-learning-databases/00409/Daily_Demand_Forecasting_Orders.csv",sep=';')
df.head()

df.rename(columns={'Week of the month (first week, second, third, fourth or fifth week':'Week','Day of the week (Monday to Friday)':'Day'}, inplace=True)
df.shape
df.info()

#Observation : No missing values present, proper datatypes.

df.describe()

Observations : Ranges are different for different columns, needs scaling.

sns.pairplot(df)

plt.figure(figsize=(10, 10))
sns.heatmap(df.corr(), annot=True)

df.columns

df1 = df[["Non-urgent order", 'Order type B', 'Order type C', 'Banking orders (2)', "Target (Total orders)"]].copy()
df1.head()

sns.pairplot(df1, diag_kind='kde')

df.Week.value_counts

sns.countplot(df.Week)

sns.countplot(df.Day)

#One hot encoding

df1 = pd.get_dummies(df, columns=["Week", "Day"])
df1.head()

df1.shape

#splitting of train-test data

y = df1["Target (Total orders)"].copy()
y.head()

X = df1.drop("Target (Total orders)", axis=1)
X.head()

X_train, X_test, y_train, y_test = train_test_split(X, y, test_size=0.33, random_state=42)

print(len(X_train))
print(len(X_test))

#Scaling

scaler = StandardScaler()

X_train = scaler.fit_transform(X_train)
X_test = scaler.fit_transform(X_test)

#Linear Regression

reg = LinearRegression().fit(X_train, y_train)
print(reg.score(X_test, y_test))
print(reg.coef_)
print(reg.coef_.shape)
print(reg.intercept_)
print(mean_squared_error(y_test, reg.predict(X_test)))

print(reg.predict(X_test))
